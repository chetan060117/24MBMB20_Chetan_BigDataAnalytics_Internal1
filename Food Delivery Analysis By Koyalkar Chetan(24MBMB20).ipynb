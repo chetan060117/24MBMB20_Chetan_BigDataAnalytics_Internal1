{
 "cells": [
  {
   "cell_type": "code",
   "execution_count": 0,
   "metadata": {
    "application/vnd.databricks.v1+cell": {
     "cellMetadata": {
      "byteLimit": 2048000,
      "rowLimit": 10000
     },
     "inputWidgets": {},
     "nuid": "aa23115a-2fb2-4896-bb1d-d1408ffae55d",
     "showTitle": false,
     "tableResultSettingsMap": {},
     "title": ""
    }
   },
   "outputs": [],
   "source": [
    "# 1. Imports and random seed\n",
    "import random\n",
    "from datetime import datetime, timedelta\n",
    "from pyspark.sql.functions import col\n",
    "random.seed(42)"
   ]
  },
  {
   "cell_type": "code",
   "execution_count": 0,
   "metadata": {
    "application/vnd.databricks.v1+cell": {
     "cellMetadata": {
      "byteLimit": 2048000,
      "rowLimit": 10000
     },
     "inputWidgets": {},
     "nuid": "28928fdf-20e5-4547-8e6a-cbca3748b02c",
     "showTitle": false,
     "tableResultSettingsMap": {},
     "title": ""
    }
   },
   "outputs": [],
   "source": [
    "# 2. Build 60 sample records\n",
    "base_time = datetime.now() - timedelta(days=30)\n",
    "records = []\n",
    "for i in range(1, 61):\n",
    "    order_id = i\n",
    "    customer_id = f\"C{random.randint(1, 15)}\"\n",
    "    restaurant_id = f\"R{random.randint(1, 10)}\"\n",
    "    delivery_partner_id = f\"D{random.randint(1, 8)}\"\n",
    "    order_value = round(random.uniform(10, 100), 2)\n",
    "    delivery_time = random.randint(10, 120)  # in minutes\n",
    "    order_status = random.choices([\"delivered\", \"cancelled\"], weights=[0.9, 0.1])[0]\n",
    "    order_timestamp = base_time + timedelta(minutes=random.randint(0, 30*24*60))\n",
    "    records.append((order_id, customer_id, restaurant_id,\n",
    "                    delivery_partner_id, order_value,\n",
    "                    delivery_time, order_status, order_timestamp))"
   ]
  },
  {
   "cell_type": "code",
   "execution_count": 0,
   "metadata": {
    "application/vnd.databricks.v1+cell": {
     "cellMetadata": {
      "byteLimit": 2048000,
      "rowLimit": 10000
     },
     "inputWidgets": {},
     "nuid": "9b3d017a-eee3-42d2-b49c-83a42c9d0437",
     "showTitle": false,
     "tableResultSettingsMap": {},
     "title": ""
    }
   },
   "outputs": [],
   "source": [
    "# 3. Create DataFrame\n",
    "schema = [\"order_id\", \"customer_id\", \"restaurant_id\",\n",
    "          \"delivery_partner_id\", \"order_value\",\n",
    "          \"delivery_time\", \"order_status\", \"order_timestamp\"]"
   ]
  },
  {
   "cell_type": "code",
   "execution_count": 0,
   "metadata": {
    "application/vnd.databricks.v1+cell": {
     "cellMetadata": {
      "byteLimit": 2048000,
      "rowLimit": 10000
     },
     "inputWidgets": {},
     "nuid": "80af3975-9da0-487c-8781-4906ebdf5697",
     "showTitle": false,
     "tableResultSettingsMap": {},
     "title": ""
    }
   },
   "outputs": [],
   "source": [
    "df = spark.createDataFrame(records, schema)"
   ]
  },
  {
   "cell_type": "code",
   "execution_count": 0,
   "metadata": {
    "application/vnd.databricks.v1+cell": {
     "cellMetadata": {
      "byteLimit": 2048000,
      "rowLimit": 10000
     },
     "inputWidgets": {},
     "nuid": "44bb5fd5-b28f-41b8-8a46-fb416fab2ad1",
     "showTitle": false,
     "tableResultSettingsMap": {},
     "title": ""
    }
   },
   "outputs": [],
   "source": [
    "df = df.withColumn(\"order_timestamp\", col(\"order_timestamp\").cast(\"timestamp\"))"
   ]
  },
  {
   "cell_type": "code",
   "execution_count": 0,
   "metadata": {
    "application/vnd.databricks.v1+cell": {
     "cellMetadata": {
      "byteLimit": 2048000,
      "rowLimit": 10000
     },
     "inputWidgets": {},
     "nuid": "9b8b577f-2aa8-470b-9751-4f2d57cc2e52",
     "showTitle": false,
     "tableResultSettingsMap": {},
     "title": ""
    }
   },
   "outputs": [
    {
     "output_type": "stream",
     "name": "stdout",
     "output_type": "stream",
     "text": [
      "+--------+-----------+-------------+-------------------+-----------+-------------+------------+--------------------+\n|order_id|customer_id|restaurant_id|delivery_partner_id|order_value|delivery_time|order_status|     order_timestamp|\n+--------+-----------+-------------+-------------------+-----------+-------------+------------+--------------------+\n|       1|         C1|           R9|                 D4|      74.44|           99|   delivered|2025-08-14 10:42:...|\n|       2|         C8|          R10|                 D5|      82.85|           10|   delivered|2025-08-11 16:19:...|\n|       3|        C12|           R7|                 D6|      35.01|           37|   cancelled|2025-08-19 17:35:...|\n|       4|         C2|           R2|                 D7|       18.7|          118|   delivered|2025-08-16 10:51:...|\n|       5|        C13|           R1|                 D8|      58.26|           58|   delivered|2025-08-17 18:09:...|\n|       6|        C14|          R10|                 D6|      61.96|          100|   delivered|2025-08-14 18:51:...|\n|       7|        C13|           R5|                 D2|      86.98|          120|   delivered|2025-08-17 01:33:...|\n|       8|         C8|           R6|                 D3|      43.32|           36|   delivered|2025-09-02 21:45:...|\n|       9|         C2|          R10|                 D3|      58.07|           41|   delivered|2025-08-21 16:23:...|\n|      10|         C5|           R9|                 D4|      71.62|          117|   delivered|2025-08-06 23:01:...|\n|      11|         C4|           R1|                 D6|       46.1|           18|   delivered|2025-08-30 05:26:...|\n|      12|        C15|           R6|                 D4|      68.99|           60|   delivered|2025-09-02 16:05:...|\n|      13|         C8|           R3|                 D5|      22.57|          105|   delivered|2025-08-16 08:55:...|\n|      14|        C12|          R10|                 D7|       90.8|           61|   delivered|2025-08-10 17:01:...|\n|      15|         C9|           R8|                 D2|      78.02|          120|   delivered|2025-09-01 23:16:...|\n|      16|         C3|           R7|                 D2|      44.63|           86|   cancelled|2025-08-28 11:52:...|\n|      17|         C5|           R9|                 D1|      71.23|           24|   delivered|2025-08-28 20:26:...|\n|      18|        C13|           R5|                 D6|      20.04|           65|   delivered|2025-08-04 13:28:...|\n|      19|        C12|           R5|                 D3|      55.69|           23|   delivered|2025-08-17 23:54:...|\n|      20|        C14|           R9|                 D4|      23.76|          107|   delivered|2025-08-28 13:13:...|\n+--------+-----------+-------------+-------------------+-----------+-------------+------------+--------------------+\nonly showing top 20 rows\n"
     ]
    }
   ],
   "source": [
    "# 4. Inspect\n",
    "df.show()"
   ]
  },
  {
   "cell_type": "markdown",
   "metadata": {
    "application/vnd.databricks.v1+cell": {
     "cellMetadata": {},
     "inputWidgets": {},
     "nuid": "85693ed4-e148-43b3-9d97-cb2b32aa1710",
     "showTitle": false,
     "tableResultSettingsMap": {},
     "title": ""
    }
   },
   "source": [
    "Dataset creation is completed and loaded in dataframe df\n",
    "\n"
   ]
  },
  {
   "cell_type": "markdown",
   "metadata": {
    "application/vnd.databricks.v1+cell": {
     "cellMetadata": {},
     "inputWidgets": {},
     "nuid": "ed158e46-3eb7-4022-a120-186697c7a9bf",
     "showTitle": false,
     "tableResultSettingsMap": {},
     "title": ""
    }
   },
   "source": [
    "using pyspark core"
   ]
  },
  {
   "cell_type": "markdown",
   "metadata": {
    "application/vnd.databricks.v1+cell": {
     "cellMetadata": {},
     "inputWidgets": {},
     "nuid": "cc6dfd2f-5d0c-4991-a541-2ae20e8fe41c",
     "showTitle": false,
     "tableResultSettingsMap": {},
     "title": ""
    }
   },
   "source": [
    "1.Compute Total order value per customer\n"
   ]
  },
  {
   "cell_type": "code",
   "execution_count": 0,
   "metadata": {
    "application/vnd.databricks.v1+cell": {
     "cellMetadata": {
      "byteLimit": 2048000,
      "rowLimit": 10000
     },
     "inputWidgets": {},
     "nuid": "ce5935e4-3bfe-41f4-b1eb-3f9a2a4d1872",
     "showTitle": false,
     "tableResultSettingsMap": {},
     "title": ""
    }
   },
   "outputs": [],
   "source": [
    "from pyspark.sql.functions import sum as _sum, avg\n",
    "\n",
    "# Total order value per customer\n",
    "total_value_df = (\n",
    "    df.groupBy(\"customer_id\")\n",
    "      .agg(_sum(\"order_value\").alias(\"total_order_value\"))\n",
    "      .orderBy(\"customer_id\")\n",
    ")"
   ]
  },
  {
   "cell_type": "code",
   "execution_count": 0,
   "metadata": {
    "application/vnd.databricks.v1+cell": {
     "cellMetadata": {
      "byteLimit": 2048000,
      "rowLimit": 10000
     },
     "inputWidgets": {},
     "nuid": "197d0379-4599-4b52-86e7-1a7af5e59b38",
     "showTitle": false,
     "tableResultSettingsMap": {},
     "title": ""
    }
   },
   "outputs": [
    {
     "output_type": "stream",
     "name": "stdout",
     "output_type": "stream",
     "text": [
      "+-----------+------------------+\n|customer_id| total_order_value|\n+-----------+------------------+\n|         C1|            123.12|\n|        C10|             77.32|\n|        C11|            191.07|\n|        C12|            281.06|\n|        C13|            216.75|\n|        C14|            283.01|\n|        C15|402.93999999999994|\n|         C2|239.45999999999998|\n|         C3|             44.63|\n|         C4|426.96000000000004|\n|         C5|383.55000000000007|\n|         C6|             24.54|\n|         C7|            225.94|\n|         C8|            195.55|\n|         C9|            138.29|\n+-----------+------------------+\n\n"
     ]
    }
   ],
   "source": [
    "total_value_df.show()\n",
    "#showing the metrics in df"
   ]
  },
  {
   "cell_type": "markdown",
   "metadata": {
    "application/vnd.databricks.v1+cell": {
     "cellMetadata": {},
     "inputWidgets": {},
     "nuid": "57d7c057-8c94-413a-8292-4746b9848242",
     "showTitle": false,
     "tableResultSettingsMap": {},
     "title": ""
    }
   },
   "source": [
    "2.Compute Average delivery time per restaurant"
   ]
  },
  {
   "cell_type": "code",
   "execution_count": 0,
   "metadata": {
    "application/vnd.databricks.v1+cell": {
     "cellMetadata": {
      "byteLimit": 2048000,
      "rowLimit": 10000
     },
     "inputWidgets": {},
     "nuid": "dbc1b0e1-8d1f-4ce8-b3b3-0bce60725ea2",
     "showTitle": false,
     "tableResultSettingsMap": {},
     "title": ""
    }
   },
   "outputs": [],
   "source": [
    "# Average delivery time per restaurant\n",
    "avg_delivery_df = (\n",
    "    df.groupBy(\"restaurant_id\")\n",
    "      .agg(avg(\"delivery_time\").alias(\"avg_delivery_time_minutes\"))\n",
    "      .orderBy(\"restaurant_id\")\n",
    ")"
   ]
  },
  {
   "cell_type": "code",
   "execution_count": 0,
   "metadata": {
    "application/vnd.databricks.v1+cell": {
     "cellMetadata": {
      "byteLimit": 2048000,
      "rowLimit": 10000
     },
     "inputWidgets": {},
     "nuid": "62c76334-a9a7-45a6-97dc-d37db7dbcec5",
     "showTitle": false,
     "tableResultSettingsMap": {},
     "title": ""
    }
   },
   "outputs": [
    {
     "output_type": "stream",
     "name": "stdout",
     "output_type": "stream",
     "text": [
      "+-------------+-------------------------+\n|restaurant_id|avg_delivery_time_minutes|\n+-------------+-------------------------+\n|           R1|                     64.1|\n|          R10|                     56.5|\n|           R2|                     77.8|\n|           R3|        92.33333333333333|\n|           R4|                     66.0|\n|           R5|                    75.25|\n|           R6|                     69.0|\n|           R7|                     46.2|\n|           R8|                    67.75|\n|           R9|        74.16666666666667|\n+-------------+-------------------------+\n\n"
     ]
    }
   ],
   "source": [
    "avg_delivery_df.show()\n",
    "#showing the metrics in df"
   ]
  },
  {
   "cell_type": "markdown",
   "metadata": {
    "application/vnd.databricks.v1+cell": {
     "cellMetadata": {},
     "inputWidgets": {},
     "nuid": "2d6fe48b-6a84-4d54-b900-3fdabb31a32f",
     "showTitle": false,
     "tableResultSettingsMap": {},
     "title": ""
    }
   },
   "source": [
    "Using Pyspark SQL"
   ]
  },
  {
   "cell_type": "code",
   "execution_count": 0,
   "metadata": {
    "application/vnd.databricks.v1+cell": {
     "cellMetadata": {
      "byteLimit": 2048000,
      "rowLimit": 10000
     },
     "inputWidgets": {},
     "nuid": "939db4d4-9b8e-4d97-ab39-3395123873f9",
     "showTitle": false,
     "tableResultSettingsMap": {},
     "title": ""
    }
   },
   "outputs": [],
   "source": [
    "# Register temp view\n",
    "df.createOrReplaceTempView(\"orders\")"
   ]
  },
  {
   "cell_type": "markdown",
   "metadata": {
    "application/vnd.databricks.v1+cell": {
     "cellMetadata": {},
     "inputWidgets": {},
     "nuid": "9c349681-dfbd-4977-a774-0a0758ef682c",
     "showTitle": false,
     "tableResultSettingsMap": {},
     "title": ""
    }
   },
   "source": [
    "1.Identify Customers with frequent cancellations"
   ]
  },
  {
   "cell_type": "code",
   "execution_count": 0,
   "metadata": {
    "application/vnd.databricks.v1+cell": {
     "cellMetadata": {
      "byteLimit": 2048000,
      "implicitDf": true,
      "rowLimit": 10000
     },
     "inputWidgets": {},
     "nuid": "aa8ae794-6f90-498b-a1f0-9c5b46f91604",
     "showTitle": false,
     "tableResultSettingsMap": {},
     "title": ""
    }
   },
   "outputs": [
    {
     "output_type": "display_data",
     "data": {
      "text/html": [
       "<style scoped>\n",
       "  .table-result-container {\n",
       "    max-height: 300px;\n",
       "    overflow: auto;\n",
       "  }\n",
       "  table, th, td {\n",
       "    border: 1px solid black;\n",
       "    border-collapse: collapse;\n",
       "  }\n",
       "  th, td {\n",
       "    padding: 5px;\n",
       "  }\n",
       "  th {\n",
       "    text-align: left;\n",
       "  }\n",
       "</style><div class='table-result-container'><table class='table-result'><thead style='background-color: white'><tr><th>customer_id</th><th>cancellation_count</th></tr></thead><tbody><tr><td>C7</td><td>2</td></tr></tbody></table></div>"
      ]
     },
     "metadata": {
      "application/vnd.databricks.v1+output": {
       "addedWidgets": {},
       "aggData": [],
       "aggError": "",
       "aggOverflow": false,
       "aggSchema": [],
       "aggSeriesLimitReached": false,
       "aggType": "",
       "arguments": {},
       "columnCustomDisplayInfos": {},
       "data": [
        [
         "C7",
         2
        ]
       ],
       "datasetInfos": [
        {
         "name": "_sqldf",
         "schema": {
          "fields": [
           {
            "metadata": {},
            "name": "customer_id",
            "nullable": true,
            "type": "string"
           },
           {
            "metadata": {},
            "name": "cancellation_count",
            "nullable": false,
            "type": "long"
           }
          ],
          "type": "struct"
         },
         "tableIdentifier": null,
         "typeStr": "pyspark.sql.connect.dataframe.DataFrame"
        }
       ],
       "dbfsResultPath": null,
       "isJsonSchema": true,
       "metadata": {
        "createTempViewForImplicitDf": true,
        "dataframeName": "_sqldf",
        "executionCount": 23
       },
       "overflow": false,
       "plotOptions": {
        "customPlotOptions": {},
        "displayType": "table",
        "pivotAggregation": null,
        "pivotColumns": null,
        "xColumns": null,
        "yColumns": null
       },
       "removedWidgets": [],
       "schema": [
        {
         "metadata": "{}",
         "name": "customer_id",
         "type": "\"string\""
        },
        {
         "metadata": "{}",
         "name": "cancellation_count",
         "type": "\"long\""
        }
       ],
       "type": "table"
      }
     },
     "output_type": "display_data"
    },
    {
     "output_type": "display_data",
     "data": {
      "text/plain": [
       "Databricks visualization. Run in Databricks to view."
      ]
     },
     "metadata": {
      "application/vnd.databricks.v1.subcommand+json": {
       "baseErrorDetails": null,
       "bindings": {},
       "collapsed": false,
       "command": "%sql WITH q AS (SELECT\n  customer_id,\n  COUNT(*) AS cancellation_count\nFROM orders\nWHERE order_status = 'cancelled'\nGROUP BY customer_id\nHAVING COUNT(*) > 1\nORDER BY cancellation_count DESC) SELECT `customer_id`,SUM(`cancellation_count`) `column_46dae44b84` FROM q GROUP BY `customer_id`",
       "commandTitle": "Visualization 1",
       "commandType": "auto",
       "commandVersion": 0,
       "commentThread": [],
       "commentsVisible": false,
       "contentSha256Hex": null,
       "customPlotOptions": {
        "redashChart": [
         {
          "key": "type",
          "value": "CHART"
         },
         {
          "key": "options",
          "value": {
           "alignYAxesAtZero": true,
           "coefficient": 1,
           "columnConfigurationMap": {
            "x": {
             "column": "customer_id",
             "id": "column_46dae44b83"
            },
            "y": [
             {
              "column": "cancellation_count",
              "id": "column_46dae44b84",
              "transform": "SUM"
             }
            ]
           },
           "dateTimeFormat": "DD/MM/YYYY HH:mm",
           "direction": {
            "type": "counterclockwise"
           },
           "error_y": {
            "type": "data",
            "visible": true
           },
           "globalSeriesType": "column",
           "legend": {
            "traceorder": "normal"
           },
           "missingValuesAsZero": true,
           "numberFormat": "0,0.[00000]",
           "percentFormat": "0[.]00%",
           "series": {
            "error_y": {
             "type": "data",
             "visible": true
            },
            "stacking": null
           },
           "seriesOptions": {
            "column_46dae44b84": {
             "name": "cancellation_count",
             "yAxis": 0
            }
           },
           "showDataLabels": false,
           "sizemode": "diameter",
           "sortX": true,
           "sortY": true,
           "swappedAxes": true,
           "textFormat": "",
           "useAggregationsUi": true,
           "valuesOptions": {},
           "version": 2,
           "xAxis": {
            "labels": {
             "enabled": true
            },
            "type": "-"
           },
           "yAxis": [
            {
             "type": "-"
            },
            {
             "opposite": true,
             "type": "-"
            }
           ]
          }
         }
        ]
       },
       "datasetPreviewNameToCmdIdMap": {},
       "diffDeletes": [],
       "diffInserts": [],
       "displayType": "redashChart",
       "error": null,
       "errorDetails": null,
       "errorSummary": null,
       "errorTraceType": null,
       "finishTime": 0,
       "globalVars": {},
       "guid": "",
       "height": "auto",
       "hideCommandCode": false,
       "hideCommandResult": false,
       "iPythonMetadata": null,
       "inputWidgets": {},
       "isLockedInExamMode": false,
       "latestUser": "a user",
       "latestUserId": null,
       "listResultMetadata": null,
       "metadata": {},
       "nuid": "7578bdcb-ac31-424d-8374-edf55636f2a8",
       "origId": 0,
       "parentHierarchy": [],
       "pivotAggregation": null,
       "pivotColumns": null,
       "position": 7.0,
       "resultDbfsErrorMessage": null,
       "resultDbfsStatus": "INLINED_IN_TREE",
       "results": null,
       "showCommandTitle": false,
       "startTime": 0,
       "state": "input",
       "streamStates": {},
       "subcommandOptions": {
        "queryPlan": {
         "groups": [
          {
           "column": "customer_id",
           "type": "column"
          }
         ],
         "selects": [
          {
           "column": "customer_id",
           "type": "column"
          },
          {
           "alias": "column_46dae44b84",
           "args": [
            {
             "column": "cancellation_count",
             "type": "column"
            }
           ],
           "function": "SUM",
           "type": "function"
          }
         ]
        }
       },
       "submitTime": 0,
       "subtype": "tableResultSubCmd.visualization",
       "tableResultIndex": 0,
       "tableResultSettingsMap": {},
       "useConsistentColors": false,
       "version": "CommandV1",
       "width": "auto",
       "workflows": [],
       "xColumns": null,
       "yColumns": null
      }
     },
     "output_type": "display_data"
    }
   ],
   "source": [
    "%sql\n",
    "-- 1. Frequent cancellations\n",
    "SELECT\n",
    "  customer_id,\n",
    "  COUNT(*) AS cancellation_count\n",
    "FROM orders\n",
    "WHERE order_status = 'cancelled'\n",
    "GROUP BY customer_id\n",
    "HAVING COUNT(*) > 1\n",
    "ORDER BY cancellation_count DESC;"
   ]
  },
  {
   "cell_type": "markdown",
   "metadata": {
    "application/vnd.databricks.v1+cell": {
     "cellMetadata": {},
     "inputWidgets": {},
     "nuid": "8b1fc6ad-76e9-4f1a-a62a-2b6ab1e24b58",
     "showTitle": false,
     "tableResultSettingsMap": {},
     "title": ""
    }
   },
   "source": [
    "2. Calculate peak order hours using group by hour(timestamp)"
   ]
  },
  {
   "cell_type": "code",
   "execution_count": 0,
   "metadata": {
    "application/vnd.databricks.v1+cell": {
     "cellMetadata": {
      "byteLimit": 2048000,
      "implicitDf": true,
      "rowLimit": 10000
     },
     "inputWidgets": {},
     "nuid": "dd2e7e32-f937-4621-8d4e-367563a5e7ae",
     "showTitle": false,
     "tableResultSettingsMap": {},
     "title": ""
    }
   },
   "outputs": [
    {
     "output_type": "display_data",
     "data": {
      "text/html": [
       "<style scoped>\n",
       "  .table-result-container {\n",
       "    max-height: 300px;\n",
       "    overflow: auto;\n",
       "  }\n",
       "  table, th, td {\n",
       "    border: 1px solid black;\n",
       "    border-collapse: collapse;\n",
       "  }\n",
       "  th, td {\n",
       "    padding: 5px;\n",
       "  }\n",
       "  th {\n",
       "    text-align: left;\n",
       "  }\n",
       "</style><div class='table-result-container'><table class='table-result'><thead style='background-color: white'><tr><th>hour_of_day</th><th>orders_count</th></tr></thead><tbody><tr><td>18</td><td>5</td></tr><tr><td>23</td><td>5</td></tr><tr><td>12</td><td>5</td></tr><tr><td>17</td><td>4</td></tr><tr><td>21</td><td>4</td></tr><tr><td>13</td><td>4</td></tr><tr><td>16</td><td>3</td></tr><tr><td>10</td><td>3</td></tr><tr><td>8</td><td>3</td></tr><tr><td>5</td><td>3</td></tr><tr><td>20</td><td>3</td></tr><tr><td>11</td><td>3</td></tr><tr><td>1</td><td>2</td></tr><tr><td>9</td><td>2</td></tr><tr><td>22</td><td>2</td></tr><tr><td>19</td><td>2</td></tr><tr><td>3</td><td>2</td></tr><tr><td>2</td><td>2</td></tr><tr><td>14</td><td>1</td></tr><tr><td>15</td><td>1</td></tr><tr><td>4</td><td>1</td></tr></tbody></table></div>"
      ]
     },
     "metadata": {
      "application/vnd.databricks.v1+output": {
       "addedWidgets": {},
       "aggData": [],
       "aggError": "",
       "aggOverflow": false,
       "aggSchema": [],
       "aggSeriesLimitReached": false,
       "aggType": "",
       "arguments": {},
       "columnCustomDisplayInfos": {},
       "data": [
        [
         18,
         5
        ],
        [
         23,
         5
        ],
        [
         12,
         5
        ],
        [
         17,
         4
        ],
        [
         21,
         4
        ],
        [
         13,
         4
        ],
        [
         16,
         3
        ],
        [
         10,
         3
        ],
        [
         8,
         3
        ],
        [
         5,
         3
        ],
        [
         20,
         3
        ],
        [
         11,
         3
        ],
        [
         1,
         2
        ],
        [
         9,
         2
        ],
        [
         22,
         2
        ],
        [
         19,
         2
        ],
        [
         3,
         2
        ],
        [
         2,
         2
        ],
        [
         14,
         1
        ],
        [
         15,
         1
        ],
        [
         4,
         1
        ]
       ],
       "datasetInfos": [
        {
         "name": "_sqldf",
         "schema": {
          "fields": [
           {
            "metadata": {},
            "name": "hour_of_day",
            "nullable": true,
            "type": "integer"
           },
           {
            "metadata": {},
            "name": "orders_count",
            "nullable": false,
            "type": "long"
           }
          ],
          "type": "struct"
         },
         "tableIdentifier": null,
         "typeStr": "pyspark.sql.connect.dataframe.DataFrame"
        }
       ],
       "dbfsResultPath": null,
       "isJsonSchema": true,
       "metadata": {
        "createTempViewForImplicitDf": true,
        "dataframeName": "_sqldf",
        "executionCount": 25
       },
       "overflow": false,
       "plotOptions": {
        "customPlotOptions": {},
        "displayType": "table",
        "pivotAggregation": null,
        "pivotColumns": null,
        "xColumns": null,
        "yColumns": null
       },
       "removedWidgets": [],
       "schema": [
        {
         "metadata": "{}",
         "name": "hour_of_day",
         "type": "\"integer\""
        },
        {
         "metadata": "{}",
         "name": "orders_count",
         "type": "\"long\""
        }
       ],
       "type": "table"
      }
     },
     "output_type": "display_data"
    },
    {
     "output_type": "display_data",
     "data": {
      "text/plain": [
       "Databricks visualization. Run in Databricks to view."
      ]
     },
     "metadata": {
      "application/vnd.databricks.v1.subcommand+json": {
       "baseErrorDetails": null,
       "bindings": {},
       "collapsed": false,
       "command": "%sql WITH q AS (SELECT\n  HOUR(order_timestamp) AS hour_of_day,\n  COUNT(*) AS orders_count\nFROM orders\nGROUP BY HOUR(order_timestamp)\nORDER BY orders_count DESC) SELECT `hour_of_day`,SUM(`orders_count`) `column_46dae44b87` FROM q GROUP BY `hour_of_day`",
       "commandTitle": "Visualization 1",
       "commandType": "auto",
       "commandVersion": 0,
       "commentThread": [],
       "commentsVisible": false,
       "contentSha256Hex": null,
       "customPlotOptions": {
        "redashChart": [
         {
          "key": "type",
          "value": "CHART"
         },
         {
          "key": "options",
          "value": {
           "alignYAxesAtZero": true,
           "coefficient": 1,
           "columnConfigurationMap": {
            "x": {
             "column": "hour_of_day",
             "id": "column_46dae44b86"
            },
            "y": [
             {
              "column": "orders_count",
              "id": "column_46dae44b87",
              "transform": "SUM"
             }
            ]
           },
           "dateTimeFormat": "DD/MM/YYYY HH:mm",
           "direction": {
            "type": "counterclockwise"
           },
           "error_y": {
            "type": "data",
            "visible": true
           },
           "globalSeriesType": "line",
           "isAggregationOn": true,
           "legend": {
            "traceorder": "normal"
           },
           "missingValuesAsZero": true,
           "numberFormat": "0,0.[00000]",
           "percentFormat": "0[.]00%",
           "series": {
            "error_y": {
             "type": "data",
             "visible": true
            },
            "stacking": null
           },
           "seriesOptions": {
            "column_46dae44b87": {
             "name": "orders_count",
             "type": "line",
             "yAxis": 0
            }
           },
           "showDataLabels": false,
           "sizemode": "diameter",
           "sortX": true,
           "sortY": true,
           "swappedAxes": false,
           "textFormat": "",
           "useAggregationsUi": true,
           "valuesOptions": {},
           "version": 2,
           "xAxis": {
            "labels": {
             "enabled": true
            },
            "type": "-"
           },
           "yAxis": [
            {
             "type": "-"
            },
            {
             "opposite": true,
             "type": "-"
            }
           ]
          }
         }
        ]
       },
       "datasetPreviewNameToCmdIdMap": {},
       "diffDeletes": [],
       "diffInserts": [],
       "displayType": "redashChart",
       "error": null,
       "errorDetails": null,
       "errorSummary": null,
       "errorTraceType": null,
       "finishTime": 0,
       "globalVars": {},
       "guid": "",
       "height": "auto",
       "hideCommandCode": false,
       "hideCommandResult": false,
       "iPythonMetadata": null,
       "inputWidgets": {},
       "isLockedInExamMode": false,
       "latestUser": "a user",
       "latestUserId": null,
       "listResultMetadata": null,
       "metadata": {},
       "nuid": "50ced67f-ebec-4e01-b3d8-b44369f5a4e3",
       "origId": 0,
       "parentHierarchy": [],
       "pivotAggregation": null,
       "pivotColumns": null,
       "position": 9.0,
       "resultDbfsErrorMessage": null,
       "resultDbfsStatus": "INLINED_IN_TREE",
       "results": null,
       "showCommandTitle": false,
       "startTime": 0,
       "state": "input",
       "streamStates": {},
       "subcommandOptions": {
        "queryPlan": {
         "groups": [
          {
           "column": "hour_of_day",
           "type": "column"
          }
         ],
         "selects": [
          {
           "column": "hour_of_day",
           "type": "column"
          },
          {
           "alias": "column_46dae44b87",
           "args": [
            {
             "column": "orders_count",
             "type": "column"
            }
           ],
           "function": "SUM",
           "type": "function"
          }
         ]
        }
       },
       "submitTime": 0,
       "subtype": "tableResultSubCmd.visualization",
       "tableResultIndex": 0,
       "tableResultSettingsMap": {},
       "useConsistentColors": false,
       "version": "CommandV1",
       "width": "auto",
       "workflows": [],
       "xColumns": null,
       "yColumns": null
      }
     },
     "output_type": "display_data"
    }
   ],
   "source": [
    "%sql\n",
    "-- 2. Peak order hours\n",
    "SELECT\n",
    "  HOUR(order_timestamp) AS hour_of_day,\n",
    "  COUNT(*) AS orders_count\n",
    "FROM orders\n",
    "GROUP BY HOUR(order_timestamp)\n",
    "ORDER BY orders_count DESC;"
   ]
  },
  {
   "cell_type": "markdown",
   "metadata": {
    "application/vnd.databricks.v1+cell": {
     "cellMetadata": {},
     "inputWidgets": {},
     "nuid": "7d3742ce-fcaa-4c3e-abf8-289ba6d66c28",
     "showTitle": false,
     "tableResultSettingsMap": {},
     "title": ""
    }
   },
   "source": [
    "Done with showing above metrics in dataframe "
   ]
  },
  {
   "cell_type": "code",
   "execution_count": 0,
   "metadata": {
    "application/vnd.databricks.v1+cell": {
     "cellMetadata": {
      "byteLimit": 2048000,
      "rowLimit": 10000
     },
     "inputWidgets": {},
     "nuid": "c3b5c587-c07a-4ed5-bd69-5c3af3854e3b",
     "showTitle": false,
     "tableResultSettingsMap": {},
     "title": ""
    }
   },
   "outputs": [],
   "source": [
    "#Done with showing above metrics in dataframe "
   ]
  },
  {
   "cell_type": "code",
   "execution_count": 0,
   "metadata": {
    "application/vnd.databricks.v1+cell": {
     "cellMetadata": {
      "byteLimit": 2048000,
      "rowLimit": 10000
     },
     "inputWidgets": {},
     "nuid": "519a9ee7-aa08-4685-b173-b590d8df1456",
     "showTitle": false,
     "tableResultSettingsMap": {},
     "title": ""
    }
   },
   "outputs": [
    {
     "output_type": "display_data",
     "data": {
      "text/html": [
       "<style scoped>\n",
       "  .table-result-container {\n",
       "    max-height: 300px;\n",
       "    overflow: auto;\n",
       "  }\n",
       "  table, th, td {\n",
       "    border: 1px solid black;\n",
       "    border-collapse: collapse;\n",
       "  }\n",
       "  th, td {\n",
       "    padding: 5px;\n",
       "  }\n",
       "  th {\n",
       "    text-align: left;\n",
       "  }\n",
       "</style><div class='table-result-container'><table class='table-result'><thead style='background-color: white'><tr><th>customer_id</th><th>total_order_value</th></tr></thead><tbody><tr><td>C1</td><td>123.12</td></tr><tr><td>C10</td><td>77.32</td></tr><tr><td>C11</td><td>191.07</td></tr><tr><td>C12</td><td>281.06</td></tr><tr><td>C13</td><td>216.75</td></tr><tr><td>C14</td><td>283.01</td></tr><tr><td>C15</td><td>402.93999999999994</td></tr><tr><td>C2</td><td>239.45999999999998</td></tr><tr><td>C3</td><td>44.63</td></tr><tr><td>C4</td><td>426.96000000000004</td></tr><tr><td>C5</td><td>383.55000000000007</td></tr><tr><td>C6</td><td>24.54</td></tr><tr><td>C7</td><td>225.94</td></tr><tr><td>C8</td><td>195.55</td></tr><tr><td>C9</td><td>138.29</td></tr></tbody></table></div>"
      ]
     },
     "metadata": {
      "application/vnd.databricks.v1+output": {
       "addedWidgets": {},
       "aggData": [],
       "aggError": "",
       "aggOverflow": false,
       "aggSchema": [],
       "aggSeriesLimitReached": false,
       "aggType": "",
       "arguments": {},
       "columnCustomDisplayInfos": {},
       "data": [
        [
         "C1",
         123.12
        ],
        [
         "C10",
         77.32
        ],
        [
         "C11",
         191.07
        ],
        [
         "C12",
         281.06
        ],
        [
         "C13",
         216.75
        ],
        [
         "C14",
         283.01
        ],
        [
         "C15",
         402.93999999999994
        ],
        [
         "C2",
         239.45999999999998
        ],
        [
         "C3",
         44.63
        ],
        [
         "C4",
         426.96000000000004
        ],
        [
         "C5",
         383.55000000000007
        ],
        [
         "C6",
         24.54
        ],
        [
         "C7",
         225.94
        ],
        [
         "C8",
         195.55
        ],
        [
         "C9",
         138.29
        ]
       ],
       "datasetInfos": [],
       "dbfsResultPath": null,
       "isJsonSchema": true,
       "metadata": {},
       "overflow": false,
       "plotOptions": {
        "customPlotOptions": {},
        "displayType": "table",
        "pivotAggregation": null,
        "pivotColumns": null,
        "xColumns": null,
        "yColumns": null
       },
       "removedWidgets": [],
       "schema": [
        {
         "metadata": "{}",
         "name": "customer_id",
         "type": "\"string\""
        },
        {
         "metadata": "{}",
         "name": "total_order_value",
         "type": "\"double\""
        }
       ],
       "type": "table"
      }
     },
     "output_type": "display_data"
    },
    {
     "output_type": "display_data",
     "data": {
      "text/plain": [
       "Databricks visualization. Run in Databricks to view."
      ]
     },
     "metadata": {
      "application/vnd.databricks.v1.subcommand+json": {
       "baseErrorDetails": null,
       "bindings": {},
       "collapsed": false,
       "command": "%python\n__backend_agg_display_orig = display\n__backend_agg_dfs = []\ndef __backend_agg_display_new(df):\n    __backend_agg_df_modules = [\"pandas.core.frame\", \"databricks.koalas.frame\", \"pyspark.sql.dataframe\", \"pyspark.pandas.frame\", \"pyspark.sql.connect.dataframe\"]\n    if (type(df).__module__ in __backend_agg_df_modules and type(df).__name__ == 'DataFrame') or isinstance(df, list):\n        __backend_agg_dfs.append(df)\n\ndisplay = __backend_agg_display_new\n\ndef __backend_agg_user_code_fn():\n    import base64\n    exec(base64.standard_b64decode(\"ZGlzcGxheSh0b3RhbF92YWx1ZV9kZikK\").decode())\n\ntry:\n    # run user code\n    __backend_agg_user_code_fn()\n\n    #reset display function\n    display = __backend_agg_display_orig\n\n    if len(__backend_agg_dfs) > 0:\n        # create a temp view\n        if type(__backend_agg_dfs[0]).__module__ == \"databricks.koalas.frame\":\n            # koalas dataframe\n            __backend_agg_dfs[0].to_spark().createOrReplaceTempView(\"DatabricksViewfc6fd2a\")\n        elif type(__backend_agg_dfs[0]).__module__ == \"pandas.core.frame\" or isinstance(__backend_agg_dfs[0], list):\n            # pandas dataframe\n            spark.createDataFrame(__backend_agg_dfs[0]).createOrReplaceTempView(\"DatabricksViewfc6fd2a\")\n        else:\n            __backend_agg_dfs[0].createOrReplaceTempView(\"DatabricksViewfc6fd2a\")\n        #run backend agg\n        display(spark.sql(\"\"\"WITH q AS (select * from DatabricksViewfc6fd2a) SELECT `customer_id`,SUM(`total_order_value`) `column_46dae44b90` FROM q GROUP BY `customer_id`\"\"\"))\n    else:\n        displayHTML(\"dataframe no longer exists. If you're using dataframe.display(), use display(dataframe) instead.\")\n\n\nfinally:\n    spark.sql(\"drop view if exists DatabricksViewfc6fd2a\")\n    display = __backend_agg_display_orig\n    del __backend_agg_display_new\n    del __backend_agg_display_orig\n    del __backend_agg_dfs\n    del __backend_agg_user_code_fn\n\n",
       "commandTitle": "Visualization 1",
       "commandType": "auto",
       "commandVersion": 0,
       "commentThread": [],
       "commentsVisible": false,
       "contentSha256Hex": null,
       "customPlotOptions": {
        "redashChart": [
         {
          "key": "type",
          "value": "CHART"
         },
         {
          "key": "options",
          "value": {
           "alignYAxesAtZero": true,
           "coefficient": 1,
           "columnConfigurationMap": {
            "x": {
             "column": "customer_id",
             "id": "column_46dae44b89"
            },
            "y": [
             {
              "column": "total_order_value",
              "id": "column_46dae44b90",
              "transform": "SUM"
             }
            ]
           },
           "dateTimeFormat": "DD/MM/YYYY HH:mm",
           "direction": {
            "type": "counterclockwise"
           },
           "error_y": {
            "type": "data",
            "visible": true
           },
           "globalSeriesType": "column",
           "legend": {
            "traceorder": "normal"
           },
           "missingValuesAsZero": true,
           "numberFormat": "0,0.[00000]",
           "percentFormat": "0[.]00%",
           "series": {
            "error_y": {
             "type": "data",
             "visible": true
            },
            "stacking": null
           },
           "seriesOptions": {
            "column_46dae44b90": {
             "name": "total_order_value",
             "yAxis": 0
            }
           },
           "showDataLabels": false,
           "sizemode": "diameter",
           "sortX": true,
           "sortY": true,
           "swappedAxes": true,
           "textFormat": "",
           "useAggregationsUi": true,
           "valuesOptions": {},
           "version": 2,
           "xAxis": {
            "labels": {
             "enabled": true
            },
            "type": "-"
           },
           "yAxis": [
            {
             "type": "-"
            },
            {
             "opposite": true,
             "type": "-"
            }
           ]
          }
         }
        ]
       },
       "datasetPreviewNameToCmdIdMap": {},
       "diffDeletes": [],
       "diffInserts": [],
       "displayType": "redashChart",
       "error": null,
       "errorDetails": null,
       "errorSummary": null,
       "errorTraceType": null,
       "finishTime": 0,
       "globalVars": {},
       "guid": "",
       "height": "auto",
       "hideCommandCode": false,
       "hideCommandResult": false,
       "iPythonMetadata": null,
       "inputWidgets": {},
       "isLockedInExamMode": false,
       "latestUser": "a user",
       "latestUserId": null,
       "listResultMetadata": null,
       "metadata": {},
       "nuid": "85e43c7f-9de0-43d7-ac32-7650f4cc1d33",
       "origId": 0,
       "parentHierarchy": [],
       "pivotAggregation": null,
       "pivotColumns": null,
       "position": 10.5,
       "resultDbfsErrorMessage": null,
       "resultDbfsStatus": "INLINED_IN_TREE",
       "results": null,
       "showCommandTitle": false,
       "startTime": 0,
       "state": "input",
       "streamStates": {},
       "subcommandOptions": {
        "queryPlan": {
         "groups": [
          {
           "column": "customer_id",
           "type": "column"
          }
         ],
         "selects": [
          {
           "column": "customer_id",
           "type": "column"
          },
          {
           "alias": "column_46dae44b90",
           "args": [
            {
             "column": "total_order_value",
             "type": "column"
            }
           ],
           "function": "SUM",
           "type": "function"
          }
         ]
        }
       },
       "submitTime": 0,
       "subtype": "tableResultSubCmd.visualization",
       "tableResultIndex": 0,
       "tableResultSettingsMap": {},
       "useConsistentColors": false,
       "version": "CommandV1",
       "width": "auto",
       "workflows": [],
       "xColumns": null,
       "yColumns": null
      }
     },
     "output_type": "display_data"
    }
   ],
   "source": [
    "display(total_value_df)\n"
   ]
  },
  {
   "cell_type": "code",
   "execution_count": 0,
   "metadata": {
    "application/vnd.databricks.v1+cell": {
     "cellMetadata": {
      "byteLimit": 2048000,
      "rowLimit": 10000
     },
     "inputWidgets": {},
     "nuid": "9f597a25-fd11-4a71-a27f-962bc0c92e7b",
     "showTitle": false,
     "tableResultSettingsMap": {},
     "title": ""
    }
   },
   "outputs": [
    {
     "output_type": "display_data",
     "data": {
      "text/html": [
       "<style scoped>\n",
       "  .table-result-container {\n",
       "    max-height: 300px;\n",
       "    overflow: auto;\n",
       "  }\n",
       "  table, th, td {\n",
       "    border: 1px solid black;\n",
       "    border-collapse: collapse;\n",
       "  }\n",
       "  th, td {\n",
       "    padding: 5px;\n",
       "  }\n",
       "  th {\n",
       "    text-align: left;\n",
       "  }\n",
       "</style><div class='table-result-container'><table class='table-result'><thead style='background-color: white'><tr><th>restaurant_id</th><th>avg_delivery_time_minutes</th></tr></thead><tbody><tr><td>R1</td><td>64.1</td></tr><tr><td>R10</td><td>56.5</td></tr><tr><td>R2</td><td>77.8</td></tr><tr><td>R3</td><td>92.33333333333333</td></tr><tr><td>R4</td><td>66.0</td></tr><tr><td>R5</td><td>75.25</td></tr><tr><td>R6</td><td>69.0</td></tr><tr><td>R7</td><td>46.2</td></tr><tr><td>R8</td><td>67.75</td></tr><tr><td>R9</td><td>74.16666666666667</td></tr></tbody></table></div>"
      ]
     },
     "metadata": {
      "application/vnd.databricks.v1+output": {
       "addedWidgets": {},
       "aggData": [],
       "aggError": "",
       "aggOverflow": false,
       "aggSchema": [],
       "aggSeriesLimitReached": false,
       "aggType": "",
       "arguments": {},
       "columnCustomDisplayInfos": {},
       "data": [
        [
         "R1",
         64.1
        ],
        [
         "R10",
         56.5
        ],
        [
         "R2",
         77.8
        ],
        [
         "R3",
         92.33333333333333
        ],
        [
         "R4",
         66.0
        ],
        [
         "R5",
         75.25
        ],
        [
         "R6",
         69.0
        ],
        [
         "R7",
         46.2
        ],
        [
         "R8",
         67.75
        ],
        [
         "R9",
         74.16666666666667
        ]
       ],
       "datasetInfos": [],
       "dbfsResultPath": null,
       "isJsonSchema": true,
       "metadata": {},
       "overflow": false,
       "plotOptions": {
        "customPlotOptions": {},
        "displayType": "table",
        "pivotAggregation": null,
        "pivotColumns": null,
        "xColumns": null,
        "yColumns": null
       },
       "removedWidgets": [],
       "schema": [
        {
         "metadata": "{}",
         "name": "restaurant_id",
         "type": "\"string\""
        },
        {
         "metadata": "{}",
         "name": "avg_delivery_time_minutes",
         "type": "\"double\""
        }
       ],
       "type": "table"
      }
     },
     "output_type": "display_data"
    },
    {
     "output_type": "display_data",
     "data": {
      "text/plain": [
       "Databricks visualization. Run in Databricks to view."
      ]
     },
     "metadata": {
      "application/vnd.databricks.v1.subcommand+json": {
       "baseErrorDetails": null,
       "bindings": {},
       "collapsed": false,
       "command": "%python\n__backend_agg_display_orig = display\n__backend_agg_dfs = []\ndef __backend_agg_display_new(df):\n    __backend_agg_df_modules = [\"pandas.core.frame\", \"databricks.koalas.frame\", \"pyspark.sql.dataframe\", \"pyspark.pandas.frame\", \"pyspark.sql.connect.dataframe\"]\n    if (type(df).__module__ in __backend_agg_df_modules and type(df).__name__ == 'DataFrame') or isinstance(df, list):\n        __backend_agg_dfs.append(df)\n\ndisplay = __backend_agg_display_new\n\ndef __backend_agg_user_code_fn():\n    import base64\n    exec(base64.standard_b64decode(\"ZGlzcGxheShhdmdfZGVsaXZlcnlfZGYp\").decode())\n\ntry:\n    # run user code\n    __backend_agg_user_code_fn()\n\n    #reset display function\n    display = __backend_agg_display_orig\n\n    if len(__backend_agg_dfs) > 0:\n        # create a temp view\n        if type(__backend_agg_dfs[0]).__module__ == \"databricks.koalas.frame\":\n            # koalas dataframe\n            __backend_agg_dfs[0].to_spark().createOrReplaceTempView(\"DatabricksView4bc759b\")\n        elif type(__backend_agg_dfs[0]).__module__ == \"pandas.core.frame\" or isinstance(__backend_agg_dfs[0], list):\n            # pandas dataframe\n            spark.createDataFrame(__backend_agg_dfs[0]).createOrReplaceTempView(\"DatabricksView4bc759b\")\n        else:\n            __backend_agg_dfs[0].createOrReplaceTempView(\"DatabricksView4bc759b\")\n        #run backend agg\n        display(spark.sql(\"\"\"WITH q AS (select * from DatabricksView4bc759b) SELECT `restaurant_id`,SUM(`avg_delivery_time_minutes`) `column_46dae44b105` FROM q GROUP BY `restaurant_id`\"\"\"))\n    else:\n        displayHTML(\"dataframe no longer exists. If you're using dataframe.display(), use display(dataframe) instead.\")\n\n\nfinally:\n    spark.sql(\"drop view if exists DatabricksView4bc759b\")\n    display = __backend_agg_display_orig\n    del __backend_agg_display_new\n    del __backend_agg_display_orig\n    del __backend_agg_dfs\n    del __backend_agg_user_code_fn\n\n",
       "commandTitle": "Visualization 1",
       "commandType": "auto",
       "commandVersion": 0,
       "commentThread": [],
       "commentsVisible": false,
       "contentSha256Hex": null,
       "customPlotOptions": {
        "redashChart": [
         {
          "key": "type",
          "value": "CHART"
         },
         {
          "key": "options",
          "value": {
           "alignYAxesAtZero": true,
           "coefficient": 1,
           "columnConfigurationMap": {
            "x": {
             "column": "restaurant_id",
             "id": "column_46dae44b104"
            },
            "y": [
             {
              "column": "avg_delivery_time_minutes",
              "id": "column_46dae44b105",
              "transform": "SUM"
             }
            ]
           },
           "dateTimeFormat": "DD/MM/YYYY HH:mm",
           "direction": {
            "type": "counterclockwise"
           },
           "error_y": {
            "type": "data",
            "visible": true
           },
           "globalSeriesType": "column",
           "legend": {
            "traceorder": "normal"
           },
           "missingValuesAsZero": true,
           "numberFormat": "0,0.[00000]",
           "percentFormat": "0[.]00%",
           "series": {
            "error_y": {
             "type": "data",
             "visible": true
            },
            "stacking": null
           },
           "seriesOptions": {
            "column_46dae44b105": {
             "name": "avg_delivery_time_minutes",
             "yAxis": 0
            }
           },
           "showDataLabels": false,
           "sizemode": "diameter",
           "sortX": true,
           "sortY": true,
           "swappedAxes": true,
           "textFormat": "",
           "useAggregationsUi": true,
           "valuesOptions": {},
           "version": 2,
           "xAxis": {
            "labels": {
             "enabled": true
            },
            "type": "-"
           },
           "yAxis": [
            {
             "type": "-"
            },
            {
             "opposite": true,
             "type": "-"
            }
           ]
          }
         }
        ]
       },
       "datasetPreviewNameToCmdIdMap": {},
       "diffDeletes": [],
       "diffInserts": [],
       "displayType": "redashChart",
       "error": null,
       "errorDetails": null,
       "errorSummary": null,
       "errorTraceType": null,
       "finishTime": 0,
       "globalVars": {},
       "guid": "",
       "height": "auto",
       "hideCommandCode": false,
       "hideCommandResult": false,
       "iPythonMetadata": null,
       "inputWidgets": {},
       "isLockedInExamMode": false,
       "latestUser": "a user",
       "latestUserId": null,
       "listResultMetadata": null,
       "metadata": {},
       "nuid": "9702dd4a-408e-4d57-901b-9bc18ae226ca",
       "origId": 0,
       "parentHierarchy": [],
       "pivotAggregation": null,
       "pivotColumns": null,
       "position": 11.5,
       "resultDbfsErrorMessage": null,
       "resultDbfsStatus": "INLINED_IN_TREE",
       "results": null,
       "showCommandTitle": false,
       "startTime": 0,
       "state": "input",
       "streamStates": {},
       "subcommandOptions": {
        "queryPlan": {
         "groups": [
          {
           "column": "restaurant_id",
           "type": "column"
          }
         ],
         "selects": [
          {
           "column": "restaurant_id",
           "type": "column"
          },
          {
           "alias": "column_46dae44b105",
           "args": [
            {
             "column": "avg_delivery_time_minutes",
             "type": "column"
            }
           ],
           "function": "SUM",
           "type": "function"
          }
         ]
        }
       },
       "submitTime": 0,
       "subtype": "tableResultSubCmd.visualization",
       "tableResultIndex": 0,
       "tableResultSettingsMap": {},
       "useConsistentColors": false,
       "version": "CommandV1",
       "width": "auto",
       "workflows": [],
       "xColumns": null,
       "yColumns": null
      }
     },
     "output_type": "display_data"
    }
   ],
   "source": [
    "display(avg_delivery_df)"
   ]
  },
  {
   "cell_type": "code",
   "execution_count": 0,
   "metadata": {
    "application/vnd.databricks.v1+cell": {
     "cellMetadata": {
      "byteLimit": 2048000,
      "rowLimit": 10000
     },
     "inputWidgets": {},
     "nuid": "7e3a6a2e-71cb-492b-8bd5-54bb36699eed",
     "showTitle": false,
     "tableResultSettingsMap": {},
     "title": ""
    }
   },
   "outputs": [
    {
     "output_type": "display_data",
     "data": {
      "text/html": [
       "<style scoped>\n",
       "  .table-result-container {\n",
       "    max-height: 300px;\n",
       "    overflow: auto;\n",
       "  }\n",
       "  table, th, td {\n",
       "    border: 1px solid black;\n",
       "    border-collapse: collapse;\n",
       "  }\n",
       "  th, td {\n",
       "    padding: 5px;\n",
       "  }\n",
       "  th {\n",
       "    text-align: left;\n",
       "  }\n",
       "</style><div class='table-result-container'><table class='table-result'><thead style='background-color: white'><tr><th>order_id</th><th>customer_id</th><th>restaurant_id</th><th>delivery_partner_id</th><th>order_value</th><th>delivery_time</th><th>order_status</th><th>order_timestamp</th></tr></thead><tbody><tr><td>1</td><td>C1</td><td>R9</td><td>D4</td><td>74.44</td><td>99</td><td>delivered</td><td>2025-08-14T10:42:18.741Z</td></tr><tr><td>2</td><td>C8</td><td>R10</td><td>D5</td><td>82.85</td><td>10</td><td>delivered</td><td>2025-08-11T16:19:18.741Z</td></tr><tr><td>3</td><td>C12</td><td>R7</td><td>D6</td><td>35.01</td><td>37</td><td>cancelled</td><td>2025-08-19T17:35:18.741Z</td></tr><tr><td>4</td><td>C2</td><td>R2</td><td>D7</td><td>18.7</td><td>118</td><td>delivered</td><td>2025-08-16T10:51:18.741Z</td></tr><tr><td>5</td><td>C13</td><td>R1</td><td>D8</td><td>58.26</td><td>58</td><td>delivered</td><td>2025-08-17T18:09:18.741Z</td></tr><tr><td>6</td><td>C14</td><td>R10</td><td>D6</td><td>61.96</td><td>100</td><td>delivered</td><td>2025-08-14T18:51:18.741Z</td></tr><tr><td>7</td><td>C13</td><td>R5</td><td>D2</td><td>86.98</td><td>120</td><td>delivered</td><td>2025-08-17T01:33:18.741Z</td></tr><tr><td>8</td><td>C8</td><td>R6</td><td>D3</td><td>43.32</td><td>36</td><td>delivered</td><td>2025-09-02T21:45:18.741Z</td></tr><tr><td>9</td><td>C2</td><td>R10</td><td>D3</td><td>58.07</td><td>41</td><td>delivered</td><td>2025-08-21T16:23:18.741Z</td></tr><tr><td>10</td><td>C5</td><td>R9</td><td>D4</td><td>71.62</td><td>117</td><td>delivered</td><td>2025-08-06T23:01:18.741Z</td></tr><tr><td>11</td><td>C4</td><td>R1</td><td>D6</td><td>46.1</td><td>18</td><td>delivered</td><td>2025-08-30T05:26:18.741Z</td></tr><tr><td>12</td><td>C15</td><td>R6</td><td>D4</td><td>68.99</td><td>60</td><td>delivered</td><td>2025-09-02T16:05:18.741Z</td></tr><tr><td>13</td><td>C8</td><td>R3</td><td>D5</td><td>22.57</td><td>105</td><td>delivered</td><td>2025-08-16T08:55:18.741Z</td></tr><tr><td>14</td><td>C12</td><td>R10</td><td>D7</td><td>90.8</td><td>61</td><td>delivered</td><td>2025-08-10T17:01:18.741Z</td></tr><tr><td>15</td><td>C9</td><td>R8</td><td>D2</td><td>78.02</td><td>120</td><td>delivered</td><td>2025-09-01T23:16:18.741Z</td></tr><tr><td>16</td><td>C3</td><td>R7</td><td>D2</td><td>44.63</td><td>86</td><td>cancelled</td><td>2025-08-28T11:52:18.741Z</td></tr><tr><td>17</td><td>C5</td><td>R9</td><td>D1</td><td>71.23</td><td>24</td><td>delivered</td><td>2025-08-28T20:26:18.741Z</td></tr><tr><td>18</td><td>C13</td><td>R5</td><td>D6</td><td>20.04</td><td>65</td><td>delivered</td><td>2025-08-04T13:28:18.741Z</td></tr><tr><td>19</td><td>C12</td><td>R5</td><td>D3</td><td>55.69</td><td>23</td><td>delivered</td><td>2025-08-17T23:54:18.741Z</td></tr><tr><td>20</td><td>C14</td><td>R9</td><td>D4</td><td>23.76</td><td>107</td><td>delivered</td><td>2025-08-28T13:13:18.741Z</td></tr><tr><td>21</td><td>C15</td><td>R1</td><td>D6</td><td>53.97</td><td>24</td><td>cancelled</td><td>2025-08-18T09:49:18.741Z</td></tr><tr><td>22</td><td>C4</td><td>R1</td><td>D4</td><td>89.02</td><td>20</td><td>delivered</td><td>2025-08-26T12:45:18.741Z</td></tr><tr><td>23</td><td>C14</td><td>R2</td><td>D3</td><td>21.56</td><td>70</td><td>cancelled</td><td>2025-08-11T22:17:18.741Z</td></tr><tr><td>24</td><td>C5</td><td>R9</td><td>D7</td><td>96.79</td><td>79</td><td>delivered</td><td>2025-08-13T13:38:18.741Z</td></tr><tr><td>25</td><td>C12</td><td>R5</td><td>D7</td><td>99.56</td><td>93</td><td>delivered</td><td>2025-08-27T23:15:18.741Z</td></tr><tr><td>26</td><td>C8</td><td>R2</td><td>D4</td><td>30.22</td><td>53</td><td>delivered</td><td>2025-08-29T14:57:18.741Z</td></tr><tr><td>27</td><td>C4</td><td>R10</td><td>D4</td><td>10.65</td><td>100</td><td>delivered</td><td>2025-08-14T19:59:18.741Z</td></tr><tr><td>28</td><td>C2</td><td>R1</td><td>D6</td><td>16.38</td><td>40</td><td>delivered</td><td>2025-08-26T12:08:18.741Z</td></tr><tr><td>29</td><td>C4</td><td>R9</td><td>D3</td><td>75.1</td><td>83</td><td>delivered</td><td>2025-08-15T11:21:18.741Z</td></tr><tr><td>30</td><td>C13</td><td>R8</td><td>D7</td><td>27.14</td><td>22</td><td>delivered</td><td>2025-08-20T12:55:18.741Z</td></tr><tr><td>31</td><td>C7</td><td>R7</td><td>D8</td><td>87.75</td><td>16</td><td>delivered</td><td>2025-09-02T19:44:18.741Z</td></tr><tr><td>32</td><td>C2</td><td>R1</td><td>D7</td><td>75.54</td><td>112</td><td>delivered</td><td>2025-08-15T17:31:18.741Z</td></tr><tr><td>33</td><td>C4</td><td>R4</td><td>D8</td><td>22.62</td><td>33</td><td>delivered</td><td>2025-08-15T18:47:18.741Z</td></tr><tr><td>34</td><td>C14</td><td>R2</td><td>D8</td><td>82.72</td><td>119</td><td>delivered</td><td>2025-08-06T17:11:18.741Z</td></tr><tr><td>35</td><td>C11</td><td>R9</td><td>D1</td><td>97.21</td><td>106</td><td>delivered</td><td>2025-08-11T23:35:18.741Z</td></tr><tr><td>36</td><td>C7</td><td>R8</td><td>D8</td><td>29.24</td><td>61</td><td>cancelled</td><td>2025-08-11T21:45:18.741Z</td></tr><tr><td>37</td><td>C7</td><td>R1</td><td>D7</td><td>33.87</td><td>110</td><td>delivered</td><td>2025-08-17T09:30:18.741Z</td></tr><tr><td>38</td><td>C7</td><td>R9</td><td>D8</td><td>23.93</td><td>47</td><td>delivered</td><td>2025-08-07T01:48:18.741Z</td></tr><tr><td>39</td><td>C10</td><td>R9</td><td>D1</td><td>77.32</td><td>17</td><td>delivered</td><td>2025-08-26T02:42:18.741Z</td></tr><tr><td>40</td><td>C9</td><td>R9</td><td>D3</td><td>15.12</td><td>75</td><td>delivered</td><td>2025-08-12T20:54:18.741Z</td></tr><tr><td>41</td><td>C2</td><td>R10</td><td>D2</td><td>70.77</td><td>40</td><td>delivered</td><td>2025-08-30T08:10:18.741Z</td></tr><tr><td>42</td><td>C4</td><td>R10</td><td>D1</td><td>65.74</td><td>63</td><td>delivered</td><td>2025-08-30T03:18:18.741Z</td></tr><tr><td>43</td><td>C9</td><td>R6</td><td>D5</td><td>28.38</td><td>101</td><td>delivered</td><td>2025-08-16T12:03:18.741Z</td></tr><tr><td>44</td><td>C7</td><td>R3</td><td>D5</td><td>51.15</td><td>106</td><td>cancelled</td><td>2025-08-04T20:06:18.741Z</td></tr><tr><td>45</td><td>C8</td><td>R10</td><td>D2</td><td>16.59</td><td>37</td><td>delivered</td><td>2025-08-10T10:36:18.741Z</td></tr><tr><td>46</td><td>C15</td><td>R6</td><td>D2</td><td>89.13</td><td>57</td><td>delivered</td><td>2025-08-24T08:32:18.741Z</td></tr><tr><td>47</td><td>C14</td><td>R9</td><td>D5</td><td>65.05</td><td>113</td><td>delivered</td><td>2025-08-04T18:28:18.741Z</td></tr><tr><td>48</td><td>C11</td><td>R9</td><td>D5</td><td>93.86</td><td>23</td><td>cancelled</td><td>2025-08-10T12:36:18.741Z</td></tr><tr><td>49</td><td>C5</td><td>R2</td><td>D2</td><td>76.82</td><td>29</td><td>delivered</td><td>2025-08-31T22:34:18.741Z</td></tr><tr><td>50</td><td>C4</td><td>R6</td><td>D4</td><td>71.87</td><td>119</td><td>delivered</td><td>2025-08-26T15:32:18.741Z</td></tr><tr><td>51</td><td>C5</td><td>R1</td><td>D2</td><td>67.09</td><td>116</td><td>delivered</td><td>2025-08-04T13:48:18.741Z</td></tr><tr><td>52</td><td>C6</td><td>R3</td><td>D5</td><td>24.54</td><td>66</td><td>delivered</td><td>2025-08-23T21:04:18.741Z</td></tr><tr><td>53</td><td>C9</td><td>R1</td><td>D2</td><td>16.77</td><td>98</td><td>cancelled</td><td>2025-08-29T05:51:18.741Z</td></tr><tr><td>54</td><td>C1</td><td>R6</td><td>D3</td><td>48.68</td><td>15</td><td>delivered</td><td>2025-08-06T05:30:18.741Z</td></tr><tr><td>55</td><td>C15</td><td>R6</td><td>D4</td><td>71.39</td><td>95</td><td>delivered</td><td>2025-08-29T21:28:18.741Z</td></tr><tr><td>56</td><td>C15</td><td>R7</td><td>D3</td><td>93.32</td><td>40</td><td>delivered</td><td>2025-08-12T11:19:18.741Z</td></tr><tr><td>57</td><td>C15</td><td>R7</td><td>D1</td><td>26.14</td><td>52</td><td>delivered</td><td>2025-08-23T03:38:18.741Z</td></tr><tr><td>58</td><td>C13</td><td>R4</td><td>D5</td><td>24.33</td><td>99</td><td>delivered</td><td>2025-08-06T04:13:18.741Z</td></tr><tr><td>59</td><td>C14</td><td>R8</td><td>D4</td><td>27.96</td><td>68</td><td>delivered</td><td>2025-08-14T18:31:18.741Z</td></tr><tr><td>60</td><td>C4</td><td>R1</td><td>D4</td><td>45.86</td><td>45</td><td>delivered</td><td>2025-08-17T02:48:18.741Z</td></tr></tbody></table></div>"
      ]
     },
     "metadata": {
      "application/vnd.databricks.v1+output": {
       "addedWidgets": {},
       "aggData": [],
       "aggError": "",
       "aggOverflow": false,
       "aggSchema": [],
       "aggSeriesLimitReached": false,
       "aggType": "",
       "arguments": {},
       "columnCustomDisplayInfos": {},
       "data": [
        [
         1,
         "C1",
         "R9",
         "D4",
         74.44,
         99,
         "delivered",
         "2025-08-14T10:42:18.741Z"
        ],
        [
         2,
         "C8",
         "R10",
         "D5",
         82.85,
         10,
         "delivered",
         "2025-08-11T16:19:18.741Z"
        ],
        [
         3,
         "C12",
         "R7",
         "D6",
         35.01,
         37,
         "cancelled",
         "2025-08-19T17:35:18.741Z"
        ],
        [
         4,
         "C2",
         "R2",
         "D7",
         18.7,
         118,
         "delivered",
         "2025-08-16T10:51:18.741Z"
        ],
        [
         5,
         "C13",
         "R1",
         "D8",
         58.26,
         58,
         "delivered",
         "2025-08-17T18:09:18.741Z"
        ],
        [
         6,
         "C14",
         "R10",
         "D6",
         61.96,
         100,
         "delivered",
         "2025-08-14T18:51:18.741Z"
        ],
        [
         7,
         "C13",
         "R5",
         "D2",
         86.98,
         120,
         "delivered",
         "2025-08-17T01:33:18.741Z"
        ],
        [
         8,
         "C8",
         "R6",
         "D3",
         43.32,
         36,
         "delivered",
         "2025-09-02T21:45:18.741Z"
        ],
        [
         9,
         "C2",
         "R10",
         "D3",
         58.07,
         41,
         "delivered",
         "2025-08-21T16:23:18.741Z"
        ],
        [
         10,
         "C5",
         "R9",
         "D4",
         71.62,
         117,
         "delivered",
         "2025-08-06T23:01:18.741Z"
        ],
        [
         11,
         "C4",
         "R1",
         "D6",
         46.1,
         18,
         "delivered",
         "2025-08-30T05:26:18.741Z"
        ],
        [
         12,
         "C15",
         "R6",
         "D4",
         68.99,
         60,
         "delivered",
         "2025-09-02T16:05:18.741Z"
        ],
        [
         13,
         "C8",
         "R3",
         "D5",
         22.57,
         105,
         "delivered",
         "2025-08-16T08:55:18.741Z"
        ],
        [
         14,
         "C12",
         "R10",
         "D7",
         90.8,
         61,
         "delivered",
         "2025-08-10T17:01:18.741Z"
        ],
        [
         15,
         "C9",
         "R8",
         "D2",
         78.02,
         120,
         "delivered",
         "2025-09-01T23:16:18.741Z"
        ],
        [
         16,
         "C3",
         "R7",
         "D2",
         44.63,
         86,
         "cancelled",
         "2025-08-28T11:52:18.741Z"
        ],
        [
         17,
         "C5",
         "R9",
         "D1",
         71.23,
         24,
         "delivered",
         "2025-08-28T20:26:18.741Z"
        ],
        [
         18,
         "C13",
         "R5",
         "D6",
         20.04,
         65,
         "delivered",
         "2025-08-04T13:28:18.741Z"
        ],
        [
         19,
         "C12",
         "R5",
         "D3",
         55.69,
         23,
         "delivered",
         "2025-08-17T23:54:18.741Z"
        ],
        [
         20,
         "C14",
         "R9",
         "D4",
         23.76,
         107,
         "delivered",
         "2025-08-28T13:13:18.741Z"
        ],
        [
         21,
         "C15",
         "R1",
         "D6",
         53.97,
         24,
         "cancelled",
         "2025-08-18T09:49:18.741Z"
        ],
        [
         22,
         "C4",
         "R1",
         "D4",
         89.02,
         20,
         "delivered",
         "2025-08-26T12:45:18.741Z"
        ],
        [
         23,
         "C14",
         "R2",
         "D3",
         21.56,
         70,
         "cancelled",
         "2025-08-11T22:17:18.741Z"
        ],
        [
         24,
         "C5",
         "R9",
         "D7",
         96.79,
         79,
         "delivered",
         "2025-08-13T13:38:18.741Z"
        ],
        [
         25,
         "C12",
         "R5",
         "D7",
         99.56,
         93,
         "delivered",
         "2025-08-27T23:15:18.741Z"
        ],
        [
         26,
         "C8",
         "R2",
         "D4",
         30.22,
         53,
         "delivered",
         "2025-08-29T14:57:18.741Z"
        ],
        [
         27,
         "C4",
         "R10",
         "D4",
         10.65,
         100,
         "delivered",
         "2025-08-14T19:59:18.741Z"
        ],
        [
         28,
         "C2",
         "R1",
         "D6",
         16.38,
         40,
         "delivered",
         "2025-08-26T12:08:18.741Z"
        ],
        [
         29,
         "C4",
         "R9",
         "D3",
         75.1,
         83,
         "delivered",
         "2025-08-15T11:21:18.741Z"
        ],
        [
         30,
         "C13",
         "R8",
         "D7",
         27.14,
         22,
         "delivered",
         "2025-08-20T12:55:18.741Z"
        ],
        [
         31,
         "C7",
         "R7",
         "D8",
         87.75,
         16,
         "delivered",
         "2025-09-02T19:44:18.741Z"
        ],
        [
         32,
         "C2",
         "R1",
         "D7",
         75.54,
         112,
         "delivered",
         "2025-08-15T17:31:18.741Z"
        ],
        [
         33,
         "C4",
         "R4",
         "D8",
         22.62,
         33,
         "delivered",
         "2025-08-15T18:47:18.741Z"
        ],
        [
         34,
         "C14",
         "R2",
         "D8",
         82.72,
         119,
         "delivered",
         "2025-08-06T17:11:18.741Z"
        ],
        [
         35,
         "C11",
         "R9",
         "D1",
         97.21,
         106,
         "delivered",
         "2025-08-11T23:35:18.741Z"
        ],
        [
         36,
         "C7",
         "R8",
         "D8",
         29.24,
         61,
         "cancelled",
         "2025-08-11T21:45:18.741Z"
        ],
        [
         37,
         "C7",
         "R1",
         "D7",
         33.87,
         110,
         "delivered",
         "2025-08-17T09:30:18.741Z"
        ],
        [
         38,
         "C7",
         "R9",
         "D8",
         23.93,
         47,
         "delivered",
         "2025-08-07T01:48:18.741Z"
        ],
        [
         39,
         "C10",
         "R9",
         "D1",
         77.32,
         17,
         "delivered",
         "2025-08-26T02:42:18.741Z"
        ],
        [
         40,
         "C9",
         "R9",
         "D3",
         15.12,
         75,
         "delivered",
         "2025-08-12T20:54:18.741Z"
        ],
        [
         41,
         "C2",
         "R10",
         "D2",
         70.77,
         40,
         "delivered",
         "2025-08-30T08:10:18.741Z"
        ],
        [
         42,
         "C4",
         "R10",
         "D1",
         65.74,
         63,
         "delivered",
         "2025-08-30T03:18:18.741Z"
        ],
        [
         43,
         "C9",
         "R6",
         "D5",
         28.38,
         101,
         "delivered",
         "2025-08-16T12:03:18.741Z"
        ],
        [
         44,
         "C7",
         "R3",
         "D5",
         51.15,
         106,
         "cancelled",
         "2025-08-04T20:06:18.741Z"
        ],
        [
         45,
         "C8",
         "R10",
         "D2",
         16.59,
         37,
         "delivered",
         "2025-08-10T10:36:18.741Z"
        ],
        [
         46,
         "C15",
         "R6",
         "D2",
         89.13,
         57,
         "delivered",
         "2025-08-24T08:32:18.741Z"
        ],
        [
         47,
         "C14",
         "R9",
         "D5",
         65.05,
         113,
         "delivered",
         "2025-08-04T18:28:18.741Z"
        ],
        [
         48,
         "C11",
         "R9",
         "D5",
         93.86,
         23,
         "cancelled",
         "2025-08-10T12:36:18.741Z"
        ],
        [
         49,
         "C5",
         "R2",
         "D2",
         76.82,
         29,
         "delivered",
         "2025-08-31T22:34:18.741Z"
        ],
        [
         50,
         "C4",
         "R6",
         "D4",
         71.87,
         119,
         "delivered",
         "2025-08-26T15:32:18.741Z"
        ],
        [
         51,
         "C5",
         "R1",
         "D2",
         67.09,
         116,
         "delivered",
         "2025-08-04T13:48:18.741Z"
        ],
        [
         52,
         "C6",
         "R3",
         "D5",
         24.54,
         66,
         "delivered",
         "2025-08-23T21:04:18.741Z"
        ],
        [
         53,
         "C9",
         "R1",
         "D2",
         16.77,
         98,
         "cancelled",
         "2025-08-29T05:51:18.741Z"
        ],
        [
         54,
         "C1",
         "R6",
         "D3",
         48.68,
         15,
         "delivered",
         "2025-08-06T05:30:18.741Z"
        ],
        [
         55,
         "C15",
         "R6",
         "D4",
         71.39,
         95,
         "delivered",
         "2025-08-29T21:28:18.741Z"
        ],
        [
         56,
         "C15",
         "R7",
         "D3",
         93.32,
         40,
         "delivered",
         "2025-08-12T11:19:18.741Z"
        ],
        [
         57,
         "C15",
         "R7",
         "D1",
         26.14,
         52,
         "delivered",
         "2025-08-23T03:38:18.741Z"
        ],
        [
         58,
         "C13",
         "R4",
         "D5",
         24.33,
         99,
         "delivered",
         "2025-08-06T04:13:18.741Z"
        ],
        [
         59,
         "C14",
         "R8",
         "D4",
         27.96,
         68,
         "delivered",
         "2025-08-14T18:31:18.741Z"
        ],
        [
         60,
         "C4",
         "R1",
         "D4",
         45.86,
         45,
         "delivered",
         "2025-08-17T02:48:18.741Z"
        ]
       ],
       "datasetInfos": [],
       "dbfsResultPath": null,
       "isJsonSchema": true,
       "metadata": {},
       "overflow": false,
       "plotOptions": {
        "customPlotOptions": {},
        "displayType": "table",
        "pivotAggregation": null,
        "pivotColumns": null,
        "xColumns": null,
        "yColumns": null
       },
       "removedWidgets": [],
       "schema": [
        {
         "metadata": "{}",
         "name": "order_id",
         "type": "\"long\""
        },
        {
         "metadata": "{}",
         "name": "customer_id",
         "type": "\"string\""
        },
        {
         "metadata": "{}",
         "name": "restaurant_id",
         "type": "\"string\""
        },
        {
         "metadata": "{}",
         "name": "delivery_partner_id",
         "type": "\"string\""
        },
        {
         "metadata": "{}",
         "name": "order_value",
         "type": "\"double\""
        },
        {
         "metadata": "{}",
         "name": "delivery_time",
         "type": "\"long\""
        },
        {
         "metadata": "{}",
         "name": "order_status",
         "type": "\"string\""
        },
        {
         "metadata": "{}",
         "name": "order_timestamp",
         "type": "\"timestamp\""
        }
       ],
       "type": "table"
      }
     },
     "output_type": "display_data"
    }
   ],
   "source": [
    "display(df)\n",
    "#this is my original dataset which I used for my analysis"
   ]
  }
 ],
 "metadata": {
  "application/vnd.databricks.v1+notebook": {
   "computePreferences": null,
   "dashboards": [
    {
     "elements": [
      {
       "dashboardResultIndex": null,
       "elementNUID": "7578bdcb-ac31-424d-8374-edf55636f2a8",
       "elementType": "command",
       "guid": "0d9a6368-3dd4-42f9-93a4-fd5f182db06a",
       "options": null,
       "position": {
        "height": 6,
        "width": 12,
        "x": 0,
        "y": 0,
        "z": null
       },
       "resultIndex": null
      },
      {
       "dashboardResultIndex": null,
       "elementNUID": "50ced67f-ebec-4e01-b3d8-b44369f5a4e3",
       "elementType": "command",
       "guid": "a52f250a-73a3-4619-af99-968fa5468f2c",
       "options": null,
       "position": {
        "height": 6,
        "width": 12,
        "x": 0,
        "y": 6,
        "z": null
       },
       "resultIndex": null
      },
      {
       "dashboardResultIndex": null,
       "elementNUID": "85e43c7f-9de0-43d7-ac32-7650f4cc1d33",
       "elementType": "command",
       "guid": "bb7f41b4-cd47-4f1f-9277-b8a3d0ad9c0c",
       "options": null,
       "position": {
        "height": 6,
        "width": 12,
        "x": 0,
        "y": 12,
        "z": null
       },
       "resultIndex": null
      },
      {
       "dashboardResultIndex": null,
       "elementNUID": "9702dd4a-408e-4d57-901b-9bc18ae226ca",
       "elementType": "command",
       "guid": "d8b649c3-d051-4729-b83e-91acaaed08a8",
       "options": null,
       "position": {
        "height": 6,
        "width": 12,
        "x": 0,
        "y": 18,
        "z": null
       },
       "resultIndex": null
      }
     ],
     "globalVars": {},
     "guid": "",
     "layoutOption": {
      "grid": true,
      "stack": false
     },
     "nuid": "e1ded612-ec49-4b01-8494-b8b433acdc79",
     "origId": 7433651840185788,
     "title": "FoodDeliveryMetrics_Dashboard",
     "version": "DashboardViewV1",
     "width": 1024
    }
   ],
   "environmentMetadata": {
    "base_environment": "",
    "environment_version": "3"
   },
   "inputWidgetPreferences": null,
   "language": "python",
   "notebookMetadata": {
    "mostRecentlyExecutedCommandWithImplicitDF": {
     "commandId": 7433651840185776,
     "dataframes": [
      "_sqldf"
     ]
    },
    "pythonIndentUnit": 4
   },
   "notebookName": "Food Delivery Analysis By Koyalkar Chetan(24MBMB20)",
   "widgets": {}
  },
  "language_info": {
   "name": "python"
  }
 },
 "nbformat": 4,
 "nbformat_minor": 0
}